{
 "cells": [
  {
   "cell_type": "code",
   "execution_count": 18,
   "metadata": {},
   "outputs": [],
   "source": [
    "import matplotlib.pyplot as plt\n",
    "from PIL import Image\n",
    "import numpy as np\n",
    "from tiles import domino"
   ]
  },
  {
   "cell_type": "code",
   "execution_count": 2,
   "metadata": {},
   "outputs": [],
   "source": [
    "phi = {}\n",
    "for i in range(10):\n",
    "    phi[i] = [i, i]\n",
    "cnt = 10\n",
    "for s in range(2):\n",
    "    for i in range(10):\n",
    "        for j in range(10):\n",
    "            if j > i:\n",
    "                if s == 0:\n",
    "                    phi[cnt] = [i,j]\n",
    "                else:\n",
    "                    phi[cnt] = [j,i]\n",
    "                cnt += 1"
   ]
  },
  {
   "cell_type": "code",
   "execution_count": 3,
   "metadata": {},
   "outputs": [],
   "source": [
    "sol = [line for line in open(\"sol.txt\")]\n",
    "imax = 176\n",
    "jmax = 120\n",
    "horz = []\n",
    "vert = []\n",
    "read_horz = False\n",
    "read_vert = False\n",
    "for l in sol:\n",
    "    if read_horz:\n",
    "        if l.strip() == \"Vertical\":\n",
    "            read_horz = False\n",
    "            read_vert = True\n",
    "        else:\n",
    "            i = int(l.split(\":\")[1].split(\",\")[0].strip())\n",
    "            j = int(l.split(\":\")[2].split(\",\")[0].strip())\n",
    "            k1 = int(l.split(\":\")[3].split(\",\")[0].strip())\n",
    "            k2 = int(l.split(\":\")[4].split(\",\")[0].strip())\n",
    "            horz.append([i,j,k1,k2])\n",
    "    elif read_vert:\n",
    "        if l.strip() == \"Horizontal\":\n",
    "            read_horz = True\n",
    "            read_vert = False\n",
    "        else:\n",
    "            i = int(l.split(\":\")[1].split(\",\")[0].strip())\n",
    "            j = int(l.split(\":\")[2].split(\",\")[0].strip())\n",
    "            k1 = int(l.split(\":\")[3].split(\",\")[0].strip())\n",
    "            k2 = int(l.split(\":\")[4].split(\",\")[0].strip())\n",
    "            vert.append([i,j,k1,k2])\n",
    "    else:\n",
    "        if l.strip() == \"Horizontal\":\n",
    "            read_horz = True\n",
    "        if l.strip() == \"Vertical\":\n",
    "            read_vert = True"
   ]
  },
  {
   "cell_type": "code",
   "execution_count": 19,
   "metadata": {},
   "outputs": [
    {
     "data": {
      "text/plain": [
       "<Figure size 720x1440 with 0 Axes>"
      ]
     },
     "metadata": {},
     "output_type": "display_data"
    }
   ],
   "source": [
    "plt.figure(figsize=(10,20))\n",
    "background = Image.new('RGBA', (176*40, 120*40), (255, 255, 255, 255))\n",
    "#background = Image.new('RGBA', (176*40, 120*40), (255, 255, 255, 255))\n",
    "for n in horz:\n",
    "    d = domino(375, 750)\n",
    "    d.add_dots(n[2],n[3])\n",
    "    background.paste(d.image.resize((40,80),Image.ANTIALIAS).rotate(90, expand=True), (40*(n[0]),40*n[1]))\n",
    "for n in vert:\n",
    "    d = domino(375, 750)\n",
    "    d.add_dots(n[2],n[3])\n",
    "    background.paste(d.image.resize((40,80),Image.ANTIALIAS), (40*(n[0]),40*n[1]))\n",
    "#plt.imshow(background)\n",
    "background.rotate(-90, expand=True).save(\"mary.png\")"
   ]
  },
  {
   "cell_type": "code",
   "execution_count": null,
   "metadata": {},
   "outputs": [],
   "source": []
  }
 ],
 "metadata": {
  "kernelspec": {
   "display_name": "Python 3",
   "language": "python",
   "name": "python3"
  },
  "language_info": {
   "codemirror_mode": {
    "name": "ipython",
    "version": 3
   },
   "file_extension": ".py",
   "mimetype": "text/x-python",
   "name": "python",
   "nbconvert_exporter": "python",
   "pygments_lexer": "ipython3",
   "version": "3.8.3"
  }
 },
 "nbformat": 4,
 "nbformat_minor": 4
}
